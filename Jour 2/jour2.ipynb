{
 "cells": [
  {
   "cell_type": "code",
   "execution_count": 49,
   "metadata": {},
   "outputs": [],
   "source": [
    "import numpy as np\n",
    "import math\n",
    "\n",
    "input = open(\"input.txt\")\n",
    "reading = input.readlines()\n",
    "\n",
    "lines = []\n",
    "\n",
    "for line in reading:\n",
    "\tline = line.strip(\"\\n\")\n",
    "\tlines.append(line)\n"
   ]
  },
  {
   "cell_type": "code",
   "execution_count": 23,
   "metadata": {},
   "outputs": [],
   "source": [
    "def answer(opponent_move: str):\n",
    "\tif (opponent_move == \"A\"): return \"Y\"\n",
    "\telif (opponent_move == \"B\"): return \"X\"\n",
    "\telif (opponent_move == \"C\"): return \"Z\""
   ]
  },
  {
   "cell_type": "code",
   "execution_count": 61,
   "metadata": {},
   "outputs": [],
   "source": [
    "def score(moves):\n",
    "\tif (moves == \"A X\"): return 3 + 1\n",
    "\telif (moves == \"A Y\"): return 6 + 2\n",
    "\telif (moves == \"A Z\"): return 0 + 3\n",
    "\telif (moves == \"B X\"): return 0 + 1\n",
    "\telif (moves == \"B Y\"): return 3 + 2\n",
    "\telif (moves == \"B Z\"): return 6 + 3\n",
    "\telif (moves == \"C X\"): return 6 + 1\n",
    "\telif (moves == \"C Y\"): return 0 + 2\n",
    "\telif (moves == \"C Z\"): return 3 + 3\n"
   ]
  },
  {
   "cell_type": "code",
   "execution_count": 64,
   "metadata": {},
   "outputs": [
    {
     "name": "stdout",
     "output_type": "stream",
     "text": [
      "13052\n"
     ]
    }
   ],
   "source": [
    "rounds = np.array_split(lines, math.ceil(len(lines)/3))\n",
    "\n",
    "total = 0\n",
    "for round in rounds:\n",
    "\tfor game in round:\n",
    "\t\ttotal += score(game)\n",
    "\n",
    "print(total)\n"
   ]
  },
  {
   "cell_type": "code",
   "execution_count": 65,
   "metadata": {},
   "outputs": [],
   "source": [
    "def action(moves):\n",
    "\tif (moves == \"A X\"): return score(\"A Z\")\n",
    "\telif (moves == \"A Y\"): return score(\"A X\")\n",
    "\telif (moves == \"A Z\"): return score(\"A Y\")\n",
    "\telif (moves == \"B X\"): return score(\"B X\")\n",
    "\telif (moves == \"B Y\"): return score(\"B Y\")\n",
    "\telif (moves == \"B Z\"): return score(\"B Z\")\n",
    "\telif (moves == \"C X\"): return score(\"C Y\")\n",
    "\telif (moves == \"C Y\"): return score(\"C Z\")\n",
    "\telif (moves == \"C Z\"): return score(\"C X\")"
   ]
  },
  {
   "cell_type": "code",
   "execution_count": 66,
   "metadata": {},
   "outputs": [
    {
     "name": "stdout",
     "output_type": "stream",
     "text": [
      "13693\n"
     ]
    }
   ],
   "source": [
    "total2 = 0\n",
    "for round in rounds:\n",
    "\tfor game in round:\n",
    "\t\ttotal2 += action(game)\n",
    "\n",
    "print(total2)"
   ]
  }
 ],
 "metadata": {
  "kernelspec": {
   "display_name": "Python 3.10.8 64-bit (microsoft store)",
   "language": "python",
   "name": "python3"
  },
  "language_info": {
   "codemirror_mode": {
    "name": "ipython",
    "version": 3
   },
   "file_extension": ".py",
   "mimetype": "text/x-python",
   "name": "python",
   "nbconvert_exporter": "python",
   "pygments_lexer": "ipython3",
   "version": "3.10.8"
  },
  "orig_nbformat": 4,
  "vscode": {
   "interpreter": {
    "hash": "7edbebc77b627e5d6bf4f7c92f927998c59d8c5ffa7c905544dae0f09e17af22"
   }
  }
 },
 "nbformat": 4,
 "nbformat_minor": 2
}
