{
 "cells": [
  {
   "cell_type": "code",
   "execution_count": 2,
   "metadata": {},
   "outputs": [],
   "source": [
    "# Lecture du fichier\n",
    "\n",
    "text = open(\"input.txt\", \"r\")\n",
    "lines = text.readlines()\n"
   ]
  },
  {
   "cell_type": "code",
   "execution_count": 13,
   "metadata": {},
   "outputs": [],
   "source": [
    "i = 0\n",
    "elves = []\n",
    "temp_list = []\n",
    "\n",
    "# Tableau d'entiers 2D contenant les nombres\n",
    "for line in lines:\n",
    "\tif (line.strip('\\n') != \"\"):\n",
    "\t\ttemp_list.append(int(line.strip(\"\\n\")))\n",
    "\telse: \n",
    "\t\telves.append(temp_list)\n",
    "\t\ttemp_list = []"
   ]
  },
  {
   "cell_type": "code",
   "execution_count": 17,
   "metadata": {},
   "outputs": [
    {
     "name": "stdout",
     "output_type": "stream",
     "text": [
      "254 elves\n"
     ]
    }
   ],
   "source": [
    "# Nombre d'elfes\n",
    "\n",
    "print(len(elves), \"elves\")"
   ]
  },
  {
   "cell_type": "code",
   "execution_count": 21,
   "metadata": {},
   "outputs": [],
   "source": [
    "# Somme de chaque sous tableau\n",
    "\n",
    "values = []\n",
    "\n",
    "for elf in elves:\n",
    "\tvalues.append(sum(elf))"
   ]
  },
  {
   "cell_type": "code",
   "execution_count": 29,
   "metadata": {},
   "outputs": [
    {
     "name": "stdout",
     "output_type": "stream",
     "text": [
      "[-3, 0, 0, 1, 1, 3, 5]\n"
     ]
    }
   ],
   "source": [
    "# Tri fusion des valeurs du tableau\n",
    "\n",
    "def TriFusion(liste):\n",
    "\tif len(liste) == 1:\n",
    "\t\treturn liste\n",
    "\telse:\n",
    "\t\treturn fusion( TriFusion(liste[:len(liste)//2]), TriFusion(liste[len(liste)//2:]) )\n",
    "\n",
    "def fusion(A, B):\n",
    "\tif (len(A) == 0):\n",
    "\t\treturn B\n",
    "\telif (len(B) == 0):\n",
    "\t\treturn A\n",
    "\telif (A[0] <= B[0]):\n",
    "\t\treturn [A[0]] + fusion(A[1:], B)\n",
    "\telse:\n",
    "\t\treturn [B[0]] + fusion(A, B[1:])\n",
    "\n",
    "print (TriFusion([1, 3, 0, 5, 0, 1, -3]))"
   ]
  },
  {
   "cell_type": "code",
   "execution_count": 35,
   "metadata": {},
   "outputs": [],
   "source": [
    "# Tri du tableau\n",
    "elves_sorted = []\n",
    "\n",
    "for elf in elves:\n",
    "\telves_sorted.append(TriFusion(elf))"
   ]
  },
  {
   "cell_type": "code",
   "execution_count": 46,
   "metadata": {},
   "outputs": [
    {
     "name": "stdout",
     "output_type": "stream",
     "text": [
      "70698\n"
     ]
    }
   ],
   "source": [
    "# Somme de chaque sous tableau\n",
    "\n",
    "values_elf = []\n",
    "\n",
    "for elf in elves_sorted:\n",
    "\tvalues_elf.append(sum(elf))\n",
    "\n",
    "sum_sorted = TriFusion(values_elf)\n",
    "max = sum_sorted[-1]\n",
    "\n",
    "print(max)"
   ]
  },
  {
   "cell_type": "code",
   "execution_count": 48,
   "metadata": {},
   "outputs": [
    {
     "name": "stdout",
     "output_type": "stream",
     "text": [
      "206643\n"
     ]
    }
   ],
   "source": [
    "max_3 = sum(sum_sorted[-3:])\n",
    "print(max_3)"
   ]
  }
 ],
 "metadata": {
  "kernelspec": {
   "display_name": "Python 3.10.6 64-bit",
   "language": "python",
   "name": "python3"
  },
  "language_info": {
   "codemirror_mode": {
    "name": "ipython",
    "version": 3
   },
   "file_extension": ".py",
   "mimetype": "text/x-python",
   "name": "python",
   "nbconvert_exporter": "python",
   "pygments_lexer": "ipython3",
   "version": "3.10.6"
  },
  "orig_nbformat": 4,
  "vscode": {
   "interpreter": {
    "hash": "4ee925d85def2a5ad9b1b2faaac3bfc68f425f67c2cce27bba70eba531dcc34e"
   }
  }
 },
 "nbformat": 4,
 "nbformat_minor": 2
}
